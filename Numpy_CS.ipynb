{
 "cells": [
  {
   "cell_type": "markdown",
   "id": "216168b0-733a-4743-8676-00e181630c75",
   "metadata": {
    "tags": []
   },
   "source": [
    "# Cheatsheet de Numpy "
   ]
  },
  {
   "cell_type": "markdown",
   "id": "53586340-daff-48c4-84c2-7f2520e4422d",
   "metadata": {},
   "source": [
    "La librería Numpy se utiliza en diversas áreas para cómputo científico, dado que es de fácil manejo para trabajos que utilicen arreglos multidimensionales"
   ]
  },
  {
   "cell_type": "markdown",
   "id": "d6a68c56-7482-42f8-8763-46574e655e55",
   "metadata": {},
   "source": [
    "## Importación de la biblioteca\n",
    "Por conveniencia de define esta librería como np"
   ]
  },
  {
   "cell_type": "code",
   "execution_count": 1,
   "id": "4bb97ca6-bf87-43b0-a83b-bbad76fd4905",
   "metadata": {},
   "outputs": [],
   "source": [
    "import numpy as np"
   ]
  },
  {
   "cell_type": "markdown",
   "id": "27e7e6fe-6149-488b-bdcf-e9e63cabbfcb",
   "metadata": {},
   "source": [
    "## Creación de arreglos\n",
    "Numpy nos permite trabajar con arreglos de uno, dos o hasta tres dimensiones"
   ]
  },
  {
   "cell_type": "code",
   "execution_count": 2,
   "id": "f86ef555-14e7-4b60-a97a-42437684fbc4",
   "metadata": {},
   "outputs": [
    {
     "data": {
      "text/plain": [
       "array([1, 2, 3])"
      ]
     },
     "execution_count": 2,
     "metadata": {},
     "output_type": "execute_result"
    }
   ],
   "source": [
    "#Arreglo 1D\n",
    "a = np.array([1,2,3])\n",
    "a"
   ]
  },
  {
   "cell_type": "code",
   "execution_count": 3,
   "id": "ffdf3582-d227-4811-b93b-67b326a39c09",
   "metadata": {},
   "outputs": [
    {
     "data": {
      "text/plain": [
       "array([[1.5, 2. , 3. ],\n",
       "       [4. , 5. , 6. ]])"
      ]
     },
     "execution_count": 3,
     "metadata": {},
     "output_type": "execute_result"
    }
   ],
   "source": [
    "#Arreglo 2D\n",
    "b = np.array([(1.5,2,3),(4,5,6)], dtype = float)\n",
    "b"
   ]
  },
  {
   "cell_type": "code",
   "execution_count": 4,
   "id": "5932d3ec-bfb4-4998-a6f4-2cfe07d612fe",
   "metadata": {},
   "outputs": [
    {
     "data": {
      "text/plain": [
       "array([[[1.5, 2. , 3. ],\n",
       "        [4. , 5. , 6. ]],\n",
       "\n",
       "       [[3. , 2. , 1. ],\n",
       "        [4. , 5. , 6. ]]])"
      ]
     },
     "execution_count": 4,
     "metadata": {},
     "output_type": "execute_result"
    }
   ],
   "source": [
    "#Arreglo 3D\n",
    "c = np.array([[(1.5,2,3),(4,5,6)],[(3,2,1),(4,5,6)]], dtype = float)\n",
    "c"
   ]
  },
  {
   "cell_type": "markdown",
   "id": "de884340-9581-4541-accd-0c06095c0193",
   "metadata": {},
   "source": [
    "### Funciones para crear arreglos especiales"
   ]
  },
  {
   "cell_type": "code",
   "execution_count": 5,
   "id": "aee0649a-b408-4f9e-bc67-e89ae321ce11",
   "metadata": {},
   "outputs": [
    {
     "data": {
      "text/plain": [
       "array([[0., 0., 0., 0.],\n",
       "       [0., 0., 0., 0.],\n",
       "       [0., 0., 0., 0.]])"
      ]
     },
     "execution_count": 5,
     "metadata": {},
     "output_type": "execute_result"
    }
   ],
   "source": [
    "np.zeros((3,4))  #Esta función crea un arreglo 2D de ceros, de 3x4"
   ]
  },
  {
   "cell_type": "code",
   "execution_count": 6,
   "id": "61c32564-f194-457f-8b4d-ab541ef513a2",
   "metadata": {},
   "outputs": [
    {
     "data": {
      "text/plain": [
       "array([[[1, 1, 1, 1],\n",
       "        [1, 1, 1, 1],\n",
       "        [1, 1, 1, 1]],\n",
       "\n",
       "       [[1, 1, 1, 1],\n",
       "        [1, 1, 1, 1],\n",
       "        [1, 1, 1, 1]]])"
      ]
     },
     "execution_count": 6,
     "metadata": {},
     "output_type": "execute_result"
    }
   ],
   "source": [
    "np.ones((2,3,4), dtype = int)  #Creación de un arreglo 3D de unos con dimensión 2x3x4"
   ]
  },
  {
   "cell_type": "markdown",
   "id": "0eabc96b-4825-4e09-86ad-9796593a5c6f",
   "metadata": {},
   "source": [
    "### Arreglos con valores espaciados"
   ]
  },
  {
   "cell_type": "code",
   "execution_count": 7,
   "id": "36296f34-1cf9-4b1c-b25c-0175b131b356",
   "metadata": {},
   "outputs": [
    {
     "data": {
      "text/plain": [
       "array([18, 23])"
      ]
     },
     "execution_count": 7,
     "metadata": {},
     "output_type": "execute_result"
    }
   ],
   "source": [
    "d = np.arange(18, 25, 5) #La función arange con argumentos (a, b, c) crea un arreglo con valores espaciados de a-b con espaciamiento c\n",
    "d"
   ]
  },
  {
   "cell_type": "code",
   "execution_count": 8,
   "id": "accfb9b2-acf3-4751-ac9f-a31d8cf5ef43",
   "metadata": {},
   "outputs": [
    {
     "data": {
      "text/plain": [
       "array([8.  , 7.25, 6.5 , 5.75, 5.  , 4.25, 3.5 , 2.75, 2.  ])"
      ]
     },
     "execution_count": 8,
     "metadata": {},
     "output_type": "execute_result"
    }
   ],
   "source": [
    "np.linspace(8, 2, 9) #La función linspace con argumentos (a, b, c) crea un arreglo con valores de a-b con una longitud de c\n"
   ]
  },
  {
   "cell_type": "markdown",
   "id": "71d38c7d-c587-4966-9d88-9d54106e7189",
   "metadata": {},
   "source": [
    "### También es posible utilizar las siguientes funciones para crear otro tipo de arreglos:\n",
    "- np.full((A, B), C) &ensp; &ensp; &ensp; &ensp; &ensp; &ensp; &ensp;  &ensp; &nbsp;*En esta función creamos un arreglo constante de dimensiones AxB con valores C* \n",
    "- np.eye(A)  &emsp;  &emsp;  &emsp;  &emsp; &emsp; &emsp; &emsp; *Esta función crea una matriz identidad de dimensión AxA*\n",
    "- np.random.random((A,B)) &ensp; &ensp; *Creación de una matriz de dimensión AxB con valores aleatorios*\n",
    "- np.empty((A,B)) &emsp;  &emsp; &emsp;  &emsp;   &ensp; *Creación de un espacio en forma de arreglo 2D con dimensiones AxB con valores nulo*"
   ]
  },
  {
   "cell_type": "markdown",
   "id": "6425bd5b-5a4e-4e22-9d0c-49e47e12df0d",
   "metadata": {},
   "source": [
    "## Tipos de datos"
   ]
  },
  {
   "cell_type": "markdown",
   "id": "a6190000-c475-4f69-99b9-61704c41c282",
   "metadata": {},
   "source": [
    "- np.int64  &emsp;  &emsp;  &emsp; *Enteros representados en 64 bits*\n",
    "- np.float32 &emsp;  &ensp;  &ensp; *Números con decimal*\n",
    "- np.complex &emsp;  &ensp;   *Números complejos representados por 128 flotantes*\n",
    "- np.bool    &emsp;  &emsp;  &emsp; *Valores booleanos que pueden ser TRUE o FALSE*\n",
    "- np.object  &emsp;  &emsp; &nbsp;   *Objeto de Python*\n",
    "- np.string_ &emsp;  &emsp;  &nbsp; *String de longitud fija*\n",
    "- np.unicode_   &emsp;    &ensp; *Unicode de longitud fija*"
   ]
  },
  {
   "cell_type": "markdown",
   "id": "d66c5f91-df66-4220-bf4b-37c1eb853296",
   "metadata": {},
   "source": [
    "## Inspección de arreglos"
   ]
  },
  {
   "cell_type": "code",
   "execution_count": 9,
   "id": "1cdab5e2-fcc0-4603-a37c-4d780c360d7f",
   "metadata": {},
   "outputs": [
    {
     "data": {
      "text/plain": [
       "(3,)"
      ]
     },
     "execution_count": 9,
     "metadata": {},
     "output_type": "execute_result"
    }
   ],
   "source": [
    "#Dimensión de arreglos\n",
    "a.shape "
   ]
  },
  {
   "cell_type": "code",
   "execution_count": 10,
   "id": "6705eed6-b2a6-46eb-82fc-5d7f698d68e9",
   "metadata": {},
   "outputs": [
    {
     "data": {
      "text/plain": [
       "3"
      ]
     },
     "execution_count": 10,
     "metadata": {},
     "output_type": "execute_result"
    }
   ],
   "source": [
    "#Longitud de un arreglo\n",
    "len(a)"
   ]
  },
  {
   "cell_type": "code",
   "execution_count": 11,
   "id": "ab8783bf-d964-48c9-a75c-517b5248ff33",
   "metadata": {},
   "outputs": [
    {
     "data": {
      "text/plain": [
       "2"
      ]
     },
     "execution_count": 11,
     "metadata": {},
     "output_type": "execute_result"
    }
   ],
   "source": [
    "#Número de dimensiones de un arreglo\n",
    "b.ndim"
   ]
  },
  {
   "cell_type": "code",
   "execution_count": 12,
   "id": "4531d955-921e-4ecf-8a23-06b1c5f168fc",
   "metadata": {},
   "outputs": [
    {
     "data": {
      "text/plain": [
       "12"
      ]
     },
     "execution_count": 12,
     "metadata": {},
     "output_type": "execute_result"
    }
   ],
   "source": [
    "#Número de elementos en un arreglo\n",
    "c.size"
   ]
  },
  {
   "cell_type": "code",
   "execution_count": 13,
   "id": "7abbd488-1a7d-4b47-9a85-68381243b4cd",
   "metadata": {},
   "outputs": [
    {
     "data": {
      "text/plain": [
       "dtype('float64')"
      ]
     },
     "execution_count": 13,
     "metadata": {},
     "output_type": "execute_result"
    }
   ],
   "source": [
    "#Tipo de datos de los elementos de un arreglo\n",
    "b.dtype"
   ]
  },
  {
   "cell_type": "code",
   "execution_count": 14,
   "id": "4c3d633b-676e-4542-870e-41f7c8c0aa10",
   "metadata": {},
   "outputs": [
    {
     "data": {
      "text/plain": [
       "'float64'"
      ]
     },
     "execution_count": 14,
     "metadata": {},
     "output_type": "execute_result"
    }
   ],
   "source": [
    "#Nombre del tipo de datos\n",
    "b.dtype.name"
   ]
  },
  {
   "cell_type": "code",
   "execution_count": 15,
   "id": "c8d852b8-654b-4964-a343-5b0f08775812",
   "metadata": {},
   "outputs": [
    {
     "data": {
      "text/plain": [
       "array([1., 2., 3.])"
      ]
     },
     "execution_count": 15,
     "metadata": {},
     "output_type": "execute_result"
    }
   ],
   "source": [
    "#Transformar tipo de datos de un arreglo \n",
    "a.astype(float)"
   ]
  },
  {
   "cell_type": "markdown",
   "id": "ba631876-0d02-4df6-8f81-74251c0eaaa7",
   "metadata": {},
   "source": [
    "## Matemáticas con arreglos"
   ]
  },
  {
   "cell_type": "markdown",
   "id": "1f0c7c22-5653-4b22-b27c-26610775d9d9",
   "metadata": {},
   "source": [
    "### Operaciones aritméticas "
   ]
  },
  {
   "cell_type": "code",
   "execution_count": 16,
   "id": "507ed96b-ff57-4fad-ba80-962835db29bf",
   "metadata": {},
   "outputs": [
    {
     "name": "stdout",
     "output_type": "stream",
     "text": [
      "[[-0.5  0.   0. ]\n",
      " [-3.  -3.  -3. ]]\n"
     ]
    },
    {
     "data": {
      "text/plain": [
       "array([[-0.5,  0. ,  0. ],\n",
       "       [-3. , -3. , -3. ]])"
      ]
     },
     "execution_count": 16,
     "metadata": {},
     "output_type": "execute_result"
    }
   ],
   "source": [
    "#Resta convencional y resta con numpy\n",
    "\n",
    "r1 = a-b \n",
    "print(r1)\n",
    "np.subtract(a,b)"
   ]
  },
  {
   "cell_type": "code",
   "execution_count": 17,
   "id": "1d695c71-b395-4c56-ae31-6e9c135527c1",
   "metadata": {},
   "outputs": [
    {
     "name": "stdout",
     "output_type": "stream",
     "text": [
      "[[2.5 4.  6. ]\n",
      " [5.  7.  9. ]]\n"
     ]
    },
    {
     "data": {
      "text/plain": [
       "array([[2.5, 4. , 6. ],\n",
       "       [5. , 7. , 9. ]])"
      ]
     },
     "execution_count": 17,
     "metadata": {},
     "output_type": "execute_result"
    }
   ],
   "source": [
    "#Suma convencional y suma con numpy\n",
    "\n",
    "s1 = a+b \n",
    "print(s1)\n",
    "np.add(a,b)"
   ]
  },
  {
   "cell_type": "code",
   "execution_count": 18,
   "id": "ce01a280-5b9d-40f0-9bc0-d5eca60318e1",
   "metadata": {},
   "outputs": [
    {
     "name": "stdout",
     "output_type": "stream",
     "text": [
      "[[0.66666667 1.         1.        ]\n",
      " [0.25       0.4        0.5       ]]\n"
     ]
    },
    {
     "data": {
      "text/plain": [
       "array([[0.66666667, 1.        , 1.        ],\n",
       "       [0.25      , 0.4       , 0.5       ]])"
      ]
     },
     "execution_count": 18,
     "metadata": {},
     "output_type": "execute_result"
    }
   ],
   "source": [
    "#División convencional y división con numpy\n",
    "\n",
    "d1 = a/b \n",
    "print(d1)\n",
    "np.divide(a,b)"
   ]
  },
  {
   "cell_type": "code",
   "execution_count": 19,
   "id": "0e0ec333-e666-4f61-8bec-9c2d2efe2e2a",
   "metadata": {},
   "outputs": [
    {
     "name": "stdout",
     "output_type": "stream",
     "text": [
      "[[ 1.5  4.   9. ]\n",
      " [ 4.  10.  18. ]]\n"
     ]
    },
    {
     "data": {
      "text/plain": [
       "array([[ 1.5,  4. ,  9. ],\n",
       "       [ 4. , 10. , 18. ]])"
      ]
     },
     "execution_count": 19,
     "metadata": {},
     "output_type": "execute_result"
    }
   ],
   "source": [
    "#Multiplicación convencional y multiplicación con numpy\n",
    "\n",
    "m1 = a*b \n",
    "print(m1)\n",
    "np.multiply(a,b)"
   ]
  },
  {
   "cell_type": "markdown",
   "id": "af8d5f23-fbbc-40e9-b82d-3b6698dee15a",
   "metadata": {},
   "source": [
    "#### Algunas otras operaciones menos comúnes"
   ]
  },
  {
   "cell_type": "markdown",
   "id": "f259b4bc-bad0-4c13-b8f4-5b4365b9d597",
   "metadata": {},
   "source": [
    "- np.exp(A) &emsp; *Exponeciación* \n",
    "- np.sqrt(A) &emsp; *Raíz cuadrada*\n",
    "- np.sin(A) &emsp; &nbsp; *Seno*\n",
    "- np.cos(A) &emsp; *Coseno*\n",
    "- np.log(A) &emsp; *Logaritmo natural*\n",
    "- A.dot(B) &emsp; *Producto punto de A con B*"
   ]
  },
  {
   "cell_type": "markdown",
   "id": "b5bd950d-41ca-4b99-ad32-50f7ac8020c9",
   "metadata": {},
   "source": [
    "### Comparación "
   ]
  },
  {
   "cell_type": "code",
   "execution_count": 20,
   "id": "7b46be95-6553-4e30-ae68-c769739e28ca",
   "metadata": {},
   "outputs": [
    {
     "data": {
      "text/plain": [
       "array([[False,  True,  True],\n",
       "       [False, False, False]])"
      ]
     },
     "execution_count": 20,
     "metadata": {},
     "output_type": "execute_result"
    }
   ],
   "source": [
    "a == b #Comparación elemento por elemento, regresa un arreglo booleano con dimensiones del arreglo más grande"
   ]
  },
  {
   "cell_type": "code",
   "execution_count": 21,
   "id": "3c48d2c4-51ba-43b7-9627-245e8e5a3a04",
   "metadata": {},
   "outputs": [
    {
     "data": {
      "text/plain": [
       "array([ True, False, False])"
      ]
     },
     "execution_count": 21,
     "metadata": {},
     "output_type": "execute_result"
    }
   ],
   "source": [
    "a < 2 #Comparación de todos los elementos con un solo valor. Regresa un arreglo booleano con las dimensiones del arreglo que se compara"
   ]
  },
  {
   "cell_type": "code",
   "execution_count": 22,
   "id": "964d8a05-d773-406c-9760-354c099bc86f",
   "metadata": {},
   "outputs": [
    {
     "data": {
      "text/plain": [
       "False"
      ]
     },
     "execution_count": 22,
     "metadata": {},
     "output_type": "execute_result"
    }
   ],
   "source": [
    "np.array_equal(a,b) #Comparación general de arreglo a con b. Regresa un valor booleano"
   ]
  },
  {
   "cell_type": "markdown",
   "id": "cc3d2a38-1014-4471-94fb-e2eded5bf809",
   "metadata": {},
   "source": [
    "### Funciones agregadas sobre un mismo arreglo"
   ]
  },
  {
   "cell_type": "markdown",
   "id": "972cef7b-4858-465a-98d2-c76d1190842b",
   "metadata": {},
   "source": [
    "- a.sum() &emsp; &emsp; &emsp; &emsp; &emsp; *Suma de todos los elementos del arreglo* \n",
    "- a.min() &emsp; &emsp; &emsp; &emsp; &emsp; *Valor mínimo del arreglo*\n",
    "- b.max(axis=0) &emsp; &emsp; &ensp; *Valor máximo de una fila del arreglo*\n",
    "- b.cumsum(axis=1) &emsp; *Suma cumulativa de un arreglo de más de 1D*\n",
    "- a.mean() &emsp; &emsp; &emsp; &emsp; *Valor promedio del arreglo*\n",
    "- np.median(b) &emsp; &emsp; &ensp; *Mediana del arreglo*\n",
    "- np.corrcoef(a) &emsp; &ensp; &emsp;*Coeficiente de correlación*\n",
    "- np.std(b) &emsp; &emsp; &emsp; &emsp;*Desviación estándar*"
   ]
  },
  {
   "cell_type": "markdown",
   "id": "656fd238-69c7-4b8c-80cf-0800fde20b45",
   "metadata": {},
   "source": [
    "## Copia de arreglos"
   ]
  },
  {
   "cell_type": "code",
   "execution_count": 23,
   "id": "b7a5130e-5446-4b3a-af43-83d80ba4d2d5",
   "metadata": {},
   "outputs": [
    {
     "data": {
      "text/plain": [
       "array([1, 2, 3])"
      ]
     },
     "execution_count": 23,
     "metadata": {},
     "output_type": "execute_result"
    }
   ],
   "source": [
    "#Crear una vista de un arreglo con los mismos datos\n",
    "h1 = a.view()\n",
    "h1"
   ]
  },
  {
   "cell_type": "code",
   "execution_count": 24,
   "id": "e2c387d0-28c2-40aa-9845-d1169bd00528",
   "metadata": {},
   "outputs": [
    {
     "data": {
      "text/plain": [
       "array([1, 2, 3])"
      ]
     },
     "execution_count": 24,
     "metadata": {},
     "output_type": "execute_result"
    }
   ],
   "source": [
    "#Crear una copia de un arreglo\n",
    "np.copy(a)"
   ]
  },
  {
   "cell_type": "code",
   "execution_count": 25,
   "id": "9630ca71-b43d-4e4e-abd8-d327d56e0695",
   "metadata": {},
   "outputs": [
    {
     "data": {
      "text/plain": [
       "array([1, 2, 3])"
      ]
     },
     "execution_count": 25,
     "metadata": {},
     "output_type": "execute_result"
    }
   ],
   "source": [
    "#Crear una copia profunda de un arreglo\n",
    "h2 = a.copy()\n",
    "h2"
   ]
  },
  {
   "cell_type": "markdown",
   "id": "b44850ca-06f1-4b32-8ec2-64e91114dab4",
   "metadata": {},
   "source": [
    "## Ordenando arreglos "
   ]
  },
  {
   "cell_type": "code",
   "execution_count": 26,
   "id": "9de0e00a-2dee-4056-8d31-9f5ce8a8a189",
   "metadata": {},
   "outputs": [
    {
     "data": {
      "text/plain": [
       "array([1, 2, 3])"
      ]
     },
     "execution_count": 26,
     "metadata": {},
     "output_type": "execute_result"
    }
   ],
   "source": [
    "#Ordenar de menor a mayor\n",
    "a = np.array([2, 3, 1])\n",
    "a.sort()\n",
    "a"
   ]
  },
  {
   "cell_type": "code",
   "execution_count": 27,
   "id": "68743f94-fd7b-4209-a999-c8e30f11ac4f",
   "metadata": {},
   "outputs": [
    {
     "data": {
      "text/plain": [
       "array([[[1.5, 2. , 1. ],\n",
       "        [4. , 5. , 6. ]],\n",
       "\n",
       "       [[3. , 2. , 3. ],\n",
       "        [4. , 5. , 6. ]]])"
      ]
     },
     "execution_count": 27,
     "metadata": {},
     "output_type": "execute_result"
    }
   ],
   "source": [
    "#Ordenar los elementos de un arreglo tipo matriz\n",
    "c = np.array([[(1.5,2,3),(4,5,6)],[(3,2,1),(4,5,6)]], dtype = float)\n",
    "c.sort(axis=0)\n",
    "c"
   ]
  },
  {
   "cell_type": "markdown",
   "id": "471c28b6-c0fc-44a5-b532-40cde1dfcc2d",
   "metadata": {},
   "source": [
    "## Selección, cortes e índices"
   ]
  },
  {
   "cell_type": "code",
   "execution_count": 28,
   "id": "758e9af5-550a-4ff8-b072-7da28cf1e0f6",
   "metadata": {},
   "outputs": [],
   "source": [
    "a = np.array([1,2,3])\n",
    "b = np.array([(1.5,2,3),(4,5,6)], dtype = float)\n",
    "c = np.array([[(1.5,2,3),(4,5,6)],[(3,2,1),(4,5,6)]], dtype = float)"
   ]
  },
  {
   "cell_type": "markdown",
   "id": "84adab51-8e8f-4dbc-b547-379a7e1af1f6",
   "metadata": {},
   "source": [
    "#### Selección "
   ]
  },
  {
   "cell_type": "code",
   "execution_count": 29,
   "id": "df207374-e892-4cbd-ab12-cb6d711b6511",
   "metadata": {},
   "outputs": [
    {
     "data": {
      "text/plain": [
       "3"
      ]
     },
     "execution_count": 29,
     "metadata": {},
     "output_type": "execute_result"
    }
   ],
   "source": [
    "a[2] #Selección del tercer elemento del arreglo. Se cuenta desde el 0"
   ]
  },
  {
   "cell_type": "code",
   "execution_count": 30,
   "id": "40f3e974-9127-4e65-bc40-7111f9cf3878",
   "metadata": {},
   "outputs": [
    {
     "data": {
      "text/plain": [
       "6.0"
      ]
     },
     "execution_count": 30,
     "metadata": {},
     "output_type": "execute_result"
    }
   ],
   "source": [
    "b[1,2] #Selección del elemento en la fila 2 y columna 3"
   ]
  },
  {
   "cell_type": "markdown",
   "id": "0dd03365-14c3-4872-8086-8e36a0327b55",
   "metadata": {},
   "source": [
    "#### Cortes "
   ]
  },
  {
   "cell_type": "code",
   "execution_count": 31,
   "id": "39156abd-4d64-4377-ba99-3b464912ed42",
   "metadata": {},
   "outputs": [
    {
     "data": {
      "text/plain": [
       "array([1, 2])"
      ]
     },
     "execution_count": 31,
     "metadata": {},
     "output_type": "execute_result"
    }
   ],
   "source": [
    "#Selección del elemento 1 al 2. El valor despues de : significa menor que\n",
    "a[0:2]"
   ]
  },
  {
   "cell_type": "code",
   "execution_count": 32,
   "id": "d3383f3d-de8c-4517-8ced-43803de490a2",
   "metadata": {},
   "outputs": [
    {
     "data": {
      "text/plain": [
       "array([2., 5.])"
      ]
     },
     "execution_count": 32,
     "metadata": {},
     "output_type": "execute_result"
    }
   ],
   "source": [
    "#Selección de los elementos de la fila 1 a la 2 de la columna 2\n",
    "b[0:2,1]"
   ]
  },
  {
   "cell_type": "code",
   "execution_count": 33,
   "id": "2b3de46b-85ea-4a7f-b341-bfc59a26da10",
   "metadata": {},
   "outputs": [
    {
     "data": {
      "text/plain": [
       "array([[1.5, 2. , 3. ]])"
      ]
     },
     "execution_count": 33,
     "metadata": {},
     "output_type": "execute_result"
    }
   ],
   "source": [
    "b[:1] #Todos los elementos de la columna 0"
   ]
  },
  {
   "cell_type": "code",
   "execution_count": 34,
   "id": "2a3d07ad-90cf-457c-8c53-d0739eb7ca79",
   "metadata": {},
   "outputs": [
    {
     "data": {
      "text/plain": [
       "array([[3., 2., 1.],\n",
       "       [4., 5., 6.]])"
      ]
     },
     "execution_count": 34,
     "metadata": {},
     "output_type": "execute_result"
    }
   ],
   "source": [
    "#Todos los elementos del segundo termino de un arreglo 3D\n",
    "c[1,:,:]"
   ]
  },
  {
   "cell_type": "code",
   "execution_count": 35,
   "id": "019f2cfa-9b3f-4ae3-a086-ae57b8bd7fba",
   "metadata": {},
   "outputs": [
    {
     "data": {
      "text/plain": [
       "array([1, 2])"
      ]
     },
     "execution_count": 35,
     "metadata": {},
     "output_type": "execute_result"
    }
   ],
   "source": [
    "#Elementos en reversa. Los números negativos siempre van despues de :\n",
    "a[:-1]"
   ]
  },
  {
   "cell_type": "markdown",
   "id": "a5877f76-e1ba-40e1-a3af-5f2af997aab6",
   "metadata": {},
   "source": [
    "#### Index booleano "
   ]
  },
  {
   "cell_type": "code",
   "execution_count": 36,
   "id": "1391d819-a648-4435-9cff-570a03b48d6c",
   "metadata": {},
   "outputs": [
    {
     "data": {
      "text/plain": [
       "array([1])"
      ]
     },
     "execution_count": 36,
     "metadata": {},
     "output_type": "execute_result"
    }
   ],
   "source": [
    "#Seleccionar elementos con valor menor de 2\n",
    "a[a<2]"
   ]
  },
  {
   "cell_type": "markdown",
   "id": "9123c7d6-2e53-4c78-b8f4-a527586d2393",
   "metadata": {},
   "source": [
    "#### Otras formas de indexar "
   ]
  },
  {
   "cell_type": "code",
   "execution_count": 37,
   "id": "d05c387c-4bff-4663-ab14-fe25dfdcda4e",
   "metadata": {},
   "outputs": [
    {
     "data": {
      "text/plain": [
       "array([4. , 2. , 6. , 1.5])"
      ]
     },
     "execution_count": 37,
     "metadata": {},
     "output_type": "execute_result"
    }
   ],
   "source": [
    "#Seleccionar elementos (1,0), (0,1), (1,2) y (0,0)\n",
    "b[[1, 0, 1, 0], [0, 1, 2, 0]]"
   ]
  },
  {
   "cell_type": "code",
   "execution_count": 38,
   "id": "35737d0a-1971-40c3-a1e7-7e1a166d0b9e",
   "metadata": {},
   "outputs": [
    {
     "data": {
      "text/plain": [
       "array([[4. , 5. , 6. , 4. ],\n",
       "       [1.5, 2. , 3. , 1.5],\n",
       "       [4. , 5. , 6. , 4. ],\n",
       "       [1.5, 2. , 3. , 1.5]])"
      ]
     },
     "execution_count": 38,
     "metadata": {},
     "output_type": "execute_result"
    }
   ],
   "source": [
    "#Seleccionar un subconjunto de filas y columnas de la matriz\n",
    "b[[1, 0, 1, 0]][:,[0, 1, 2, 0]]"
   ]
  },
  {
   "cell_type": "markdown",
   "id": "093dc56c-3153-4ead-81b1-63dd42478e44",
   "metadata": {},
   "source": [
    "## Manipulación de arreglos "
   ]
  },
  {
   "cell_type": "markdown",
   "id": "96ca4cdb-9b15-438b-ad03-bbbbf5b62d7d",
   "metadata": {},
   "source": [
    "### Transponer elementos"
   ]
  },
  {
   "cell_type": "code",
   "execution_count": 39,
   "id": "dd88e098-624f-4da8-a01b-6884c2ee26c3",
   "metadata": {},
   "outputs": [
    {
     "data": {
      "text/plain": [
       "array([[1.5, 4. ],\n",
       "       [2. , 5. ],\n",
       "       [3. , 6. ]])"
      ]
     },
     "execution_count": 39,
     "metadata": {},
     "output_type": "execute_result"
    }
   ],
   "source": [
    "#Permutar dimensiones de arreglo\n",
    "i = np.transpose(b)\n",
    "i"
   ]
  },
  {
   "cell_type": "code",
   "execution_count": 40,
   "id": "3471c002-65e2-4f53-bd59-992f46f790fe",
   "metadata": {},
   "outputs": [
    {
     "data": {
      "text/plain": [
       "array([[1.5, 2. , 3. ],\n",
       "       [4. , 5. , 6. ]])"
      ]
     },
     "execution_count": 40,
     "metadata": {},
     "output_type": "execute_result"
    }
   ],
   "source": [
    "#Permutar dimensiones de arreglo\n",
    "i.T"
   ]
  },
  {
   "cell_type": "markdown",
   "id": "77d803e8-884e-48da-bcca-79ebdb6a9410",
   "metadata": {},
   "source": [
    "### Cambiar forma de arreglos"
   ]
  },
  {
   "cell_type": "code",
   "execution_count": 41,
   "id": "b677f746-1fd5-4bd4-a80b-7522871b187c",
   "metadata": {},
   "outputs": [
    {
     "data": {
      "text/plain": [
       "array([1.5, 2. , 3. , 4. , 5. , 6. ])"
      ]
     },
     "execution_count": 41,
     "metadata": {},
     "output_type": "execute_result"
    }
   ],
   "source": [
    "#Aplanar el arreglo\n",
    "b.ravel()"
   ]
  },
  {
   "cell_type": "code",
   "execution_count": 42,
   "id": "ec278e6a-c026-4af9-9bfb-b3fe59b878bf",
   "metadata": {},
   "outputs": [
    {
     "data": {
      "text/plain": [
       "array([[1.5, 2. ],\n",
       "       [3. , 4. ],\n",
       "       [5. , 6. ]])"
      ]
     },
     "execution_count": 42,
     "metadata": {},
     "output_type": "execute_result"
    }
   ],
   "source": [
    "#Cambiar forma pero no cambiar los datos\n",
    "b.reshape(3,-2)"
   ]
  },
  {
   "cell_type": "markdown",
   "id": "6048142d-16c7-4954-9ab5-427e9e44a6ff",
   "metadata": {},
   "source": [
    "### Añadir o quitar elementos"
   ]
  },
  {
   "cell_type": "code",
   "execution_count": 43,
   "id": "910528a8-b728-4dfc-a591-cd2a8a64a3e5",
   "metadata": {},
   "outputs": [
    {
     "data": {
      "text/plain": [
       "array([1. , 2. , 3. , 1.5, 2. , 3. , 4. , 5. , 6. ])"
      ]
     },
     "execution_count": 43,
     "metadata": {},
     "output_type": "execute_result"
    }
   ],
   "source": [
    "#Concatenar el contenido de dos objetos en un arreglo\n",
    "np.append(a,b)"
   ]
  },
  {
   "cell_type": "code",
   "execution_count": 44,
   "id": "eab2cfda-01b1-41b1-9ace-62f3457833f9",
   "metadata": {},
   "outputs": [
    {
     "data": {
      "text/plain": [
       "array([ 1,  2, 59,  3])"
      ]
     },
     "execution_count": 44,
     "metadata": {},
     "output_type": "execute_result"
    }
   ],
   "source": [
    "#Insertar argumento en el arreglo A en la posicion 2+1 el valor 59\n",
    "np.insert(a, 2, 59)"
   ]
  },
  {
   "cell_type": "code",
   "execution_count": 45,
   "id": "218b2ef6-1d3a-4a7e-b2b4-edf538edd719",
   "metadata": {},
   "outputs": [
    {
     "data": {
      "text/plain": [
       "array([1, 2])"
      ]
     },
     "execution_count": 45,
     "metadata": {},
     "output_type": "execute_result"
    }
   ],
   "source": [
    "#Borrar del arreglo A, el valor en la posición 2+1 en adelante\n",
    "np.delete(a,[2])"
   ]
  },
  {
   "cell_type": "markdown",
   "id": "b400531f-17c1-4dfb-8494-a6038af96d97",
   "metadata": {},
   "source": [
    "### Combinar arreglos"
   ]
  },
  {
   "cell_type": "code",
   "execution_count": 46,
   "id": "c6a3f2a6-e9b4-4144-b0a8-d677f24e3b0c",
   "metadata": {},
   "outputs": [
    {
     "data": {
      "text/plain": [
       "array([ 1,  2,  3, 18, 23])"
      ]
     },
     "execution_count": 46,
     "metadata": {},
     "output_type": "execute_result"
    }
   ],
   "source": [
    "#Concatenar arreglos\n",
    "np.concatenate((a,d),axis=0)"
   ]
  },
  {
   "cell_type": "code",
   "execution_count": 47,
   "id": "019a8a92-22cd-4abd-b741-4675a3ddd75e",
   "metadata": {},
   "outputs": [
    {
     "data": {
      "text/plain": [
       "array([[1. , 2. , 3. ],\n",
       "       [1.5, 2. , 3. ],\n",
       "       [4. , 5. , 6. ]])"
      ]
     },
     "execution_count": 47,
     "metadata": {},
     "output_type": "execute_result"
    }
   ],
   "source": [
    "#Apilar dos arreglos de forma vertical (sobre las filas)\n",
    "np.vstack((a,b))"
   ]
  },
  {
   "cell_type": "code",
   "execution_count": 48,
   "id": "3504aa57-582e-4eb9-b470-847a85d4c3c5",
   "metadata": {},
   "outputs": [
    {
     "data": {
      "text/plain": [
       "array([[1.5, 2. , 3. ],\n",
       "       [4. , 5. , 6. ],\n",
       "       [1. , 1. , 1. ],\n",
       "       [1. , 1. , 1. ]])"
      ]
     },
     "execution_count": 48,
     "metadata": {},
     "output_type": "execute_result"
    }
   ],
   "source": [
    "#Otra forma de apilar de forma vertical\n",
    "e = np.ones((2,3))\n",
    "np.r_[b,e]"
   ]
  },
  {
   "cell_type": "code",
   "execution_count": 49,
   "id": "84dfdd01-9816-4625-aa6a-2b64ad221d0b",
   "metadata": {},
   "outputs": [
    {
     "data": {
      "text/plain": [
       "array([[1.5, 2. , 3. , 1. , 1. , 1. ],\n",
       "       [4. , 5. , 6. , 1. , 1. , 1. ]])"
      ]
     },
     "execution_count": 49,
     "metadata": {},
     "output_type": "execute_result"
    }
   ],
   "source": [
    "#Apilamiento horizontal\n",
    "np.hstack((b,e))"
   ]
  },
  {
   "cell_type": "code",
   "execution_count": 50,
   "id": "ce895465-3653-48fc-afce-feb02fe18d97",
   "metadata": {},
   "outputs": [
    {
     "data": {
      "text/plain": [
       "array([[1.5, 2. , 3. , 1. , 1. , 1. ],\n",
       "       [4. , 5. , 6. , 1. , 1. , 1. ]])"
      ]
     },
     "execution_count": 50,
     "metadata": {},
     "output_type": "execute_result"
    }
   ],
   "source": [
    "#Apilamiento por columnas\n",
    "np.column_stack((b,e))"
   ]
  },
  {
   "cell_type": "code",
   "execution_count": 51,
   "id": "bcc1eefe-2a8c-40c5-b82d-2835a01510b1",
   "metadata": {},
   "outputs": [
    {
     "data": {
      "text/plain": [
       "array([[1.5, 2. , 3. , 1. , 1. , 1. ],\n",
       "       [4. , 5. , 6. , 1. , 1. , 1. ]])"
      ]
     },
     "execution_count": 51,
     "metadata": {},
     "output_type": "execute_result"
    }
   ],
   "source": [
    "#Otra forma de apilar por columnas\n",
    "np.c_[b,e]"
   ]
  },
  {
   "cell_type": "markdown",
   "id": "d088fb86-357e-45fb-97da-3a43579eb29b",
   "metadata": {},
   "source": [
    "### Dividir arreglos"
   ]
  },
  {
   "cell_type": "code",
   "execution_count": 52,
   "id": "0ea9f96f-a10a-46d1-9f7f-6d6a456e45d5",
   "metadata": {},
   "outputs": [
    {
     "data": {
      "text/plain": [
       "[array([[1.5],\n",
       "        [4. ]]),\n",
       " array([[2.],\n",
       "        [5.]]),\n",
       " array([[3.],\n",
       "        [6.]])]"
      ]
     },
     "execution_count": 52,
     "metadata": {},
     "output_type": "execute_result"
    }
   ],
   "source": [
    "#Dividir el arreglo de forma horizontal en tres arreglos\n",
    "np.hsplit(b,3)"
   ]
  },
  {
   "cell_type": "code",
   "execution_count": 53,
   "id": "ffccbe7c-22d6-4931-a285-ac4cad428d54",
   "metadata": {},
   "outputs": [
    {
     "data": {
      "text/plain": [
       "[array([[1.5, 2. , 3. ]]), array([[4., 5., 6.]])]"
      ]
     },
     "execution_count": 53,
     "metadata": {},
     "output_type": "execute_result"
    }
   ],
   "source": [
    "#Dividir el arreglo de forma vertical en dos arreglos\n",
    "np.vsplit(b,2)"
   ]
  },
  {
   "cell_type": "markdown",
   "id": "bd9b3ff2-220a-4886-8593-152d5bbffbfe",
   "metadata": {},
   "source": [
    "## Guardar y cargar información"
   ]
  },
  {
   "cell_type": "markdown",
   "id": "390bed9d-6cf3-46fa-bda7-f9aae95e33ec",
   "metadata": {},
   "source": [
    "### Guardar y cargar en el disco"
   ]
  },
  {
   "cell_type": "code",
   "execution_count": null,
   "id": "232a02dc-80dd-436c-b079-97355c74d6f4",
   "metadata": {},
   "outputs": [],
   "source": [
    "np.save(\"mi_arreglo\",a)\n",
    "np.savez(\"arreglo.npz\",a,b)\n",
    "np.load(\"arreglo.npy\")"
   ]
  },
  {
   "cell_type": "markdown",
   "id": "8a528789-ae56-40cd-b2b3-7fc2c58eceaa",
   "metadata": {},
   "source": [
    "### Guardar y cargar archivos de texto "
   ]
  },
  {
   "cell_type": "code",
   "execution_count": null,
   "id": "7cf914fa-6e11-4ede-afc5-05d90e736d00",
   "metadata": {},
   "outputs": [],
   "source": [
    "np.loadtxt(\"miarchivo.txt\")\n",
    "np.genfromtxt(\"mi_archivo.csv\",delimiter=\",\")\n",
    "np.savetxt(\"miarreglo.txt\",a,delimiter=\" \")"
   ]
  },
  {
   "cell_type": "markdown",
   "id": "d38c4119-3ccf-4bfe-94f0-0ed21241fd3b",
   "metadata": {},
   "source": [
    "## Pedir ayuda "
   ]
  },
  {
   "cell_type": "code",
   "execution_count": 54,
   "id": "730fc88f-7d41-453d-9285-9c29c9315e18",
   "metadata": {},
   "outputs": [
    {
     "name": "stdout",
     "output_type": "stream",
     "text": [
      "Data-type of the array's elements.\n",
      "\n",
      "Parameters\n",
      "----------\n",
      "None\n",
      "\n",
      "Returns\n",
      "-------\n",
      "d : numpy dtype object\n",
      "\n",
      "See Also\n",
      "--------\n",
      "numpy.dtype\n",
      "\n",
      "Examples\n",
      "--------\n",
      ">>> x\n",
      "array([[0, 1],\n",
      "       [2, 3]])\n",
      ">>> x.dtype\n",
      "dtype('int32')\n",
      ">>> type(x.dtype)\n",
      "<type 'numpy.dtype'>\n"
     ]
    }
   ],
   "source": [
    "np.info(np.ndarray.dtype)"
   ]
  }
 ],
 "metadata": {
  "kernelspec": {
   "display_name": "Python 3 (ipykernel)",
   "language": "python",
   "name": "python3"
  },
  "language_info": {
   "codemirror_mode": {
    "name": "ipython",
    "version": 3
   },
   "file_extension": ".py",
   "mimetype": "text/x-python",
   "name": "python",
   "nbconvert_exporter": "python",
   "pygments_lexer": "ipython3",
   "version": "3.9.7"
  }
 },
 "nbformat": 4,
 "nbformat_minor": 5
}
